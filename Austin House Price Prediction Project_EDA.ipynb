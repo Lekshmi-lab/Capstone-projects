{
 "cells": [
  {
   "cell_type": "markdown",
   "id": "ebb6b366",
   "metadata": {},
   "source": [
    "# Import Libraries"
   ]
  },
  {
   "cell_type": "code",
   "execution_count": 1,
   "id": "23db2e60",
   "metadata": {},
   "outputs": [],
   "source": [
    "import pandas as pd\n",
    "import numpy as np\n",
    "import matplotlib.pyplot as plt\n",
    "import seaborn as sns"
   ]
  },
  {
   "cell_type": "markdown",
   "id": "c8b11084",
   "metadata": {},
   "source": [
    "# Loading Data"
   ]
  },
  {
   "cell_type": "code",
   "execution_count": 2,
   "id": "10588659",
   "metadata": {},
   "outputs": [],
   "source": [
    "AustinhousepriceMasterdata=pd.read_csv('C:/Users/leksh/Documents/spring board/Capstone project/austin_housing data.csv')\n"
   ]
  },
  {
   "cell_type": "markdown",
   "id": "91da5d4a",
   "metadata": {},
   "source": [
    "# Exploring Data"
   ]
  },
  {
   "cell_type": "code",
   "execution_count": 3,
   "id": "c1ec8508",
   "metadata": {},
   "outputs": [
    {
     "data": {
      "text/plain": [
       "(15171, 47)"
      ]
     },
     "execution_count": 3,
     "metadata": {},
     "output_type": "execute_result"
    }
   ],
   "source": [
    "#Find the number of rows and columns\n",
    "AustinhousepriceMasterdata.shape"
   ]
  },
  {
   "cell_type": "markdown",
   "id": "f504bea4",
   "metadata": {},
   "source": [
    "There are 15171 rows and 47 columns fo the master data"
   ]
  },
  {
   "cell_type": "code",
   "execution_count": 4,
   "id": "57c175ed",
   "metadata": {},
   "outputs": [
    {
     "data": {
      "text/html": [
       "<div>\n",
       "<style scoped>\n",
       "    .dataframe tbody tr th:only-of-type {\n",
       "        vertical-align: middle;\n",
       "    }\n",
       "\n",
       "    .dataframe tbody tr th {\n",
       "        vertical-align: top;\n",
       "    }\n",
       "\n",
       "    .dataframe thead th {\n",
       "        text-align: right;\n",
       "    }\n",
       "</style>\n",
       "<table border=\"1\" class=\"dataframe\">\n",
       "  <thead>\n",
       "    <tr style=\"text-align: right;\">\n",
       "      <th></th>\n",
       "      <th>zpid</th>\n",
       "      <th>city</th>\n",
       "      <th>streetAddress</th>\n",
       "      <th>zipcode</th>\n",
       "      <th>description</th>\n",
       "      <th>latitude</th>\n",
       "      <th>longitude</th>\n",
       "      <th>propertyTaxRate</th>\n",
       "      <th>garageSpaces</th>\n",
       "      <th>hasAssociation</th>\n",
       "      <th>...</th>\n",
       "      <th>numOfMiddleSchools</th>\n",
       "      <th>numOfHighSchools</th>\n",
       "      <th>avgSchoolDistance</th>\n",
       "      <th>avgSchoolRating</th>\n",
       "      <th>avgSchoolSize</th>\n",
       "      <th>MedianStudentsPerTeacher</th>\n",
       "      <th>numOfBathrooms</th>\n",
       "      <th>numOfBedrooms</th>\n",
       "      <th>numOfStories</th>\n",
       "      <th>homeImage</th>\n",
       "    </tr>\n",
       "  </thead>\n",
       "  <tbody>\n",
       "    <tr>\n",
       "      <th>0</th>\n",
       "      <td>111373431</td>\n",
       "      <td>pflugerville</td>\n",
       "      <td>14424 Lake Victor Dr</td>\n",
       "      <td>78660</td>\n",
       "      <td>14424 Lake Victor Dr, Pflugerville, TX 78660 i...</td>\n",
       "      <td>30.43</td>\n",
       "      <td>-97.66</td>\n",
       "      <td>1.98</td>\n",
       "      <td>2</td>\n",
       "      <td>True</td>\n",
       "      <td>...</td>\n",
       "      <td>1</td>\n",
       "      <td>1</td>\n",
       "      <td>1</td>\n",
       "      <td>3</td>\n",
       "      <td>1063</td>\n",
       "      <td>14</td>\n",
       "      <td>3</td>\n",
       "      <td>4</td>\n",
       "      <td>2</td>\n",
       "      <td>111373431_ffce26843283d3365c11d81b8e6bdc6f-p_f...</td>\n",
       "    </tr>\n",
       "    <tr>\n",
       "      <th>1</th>\n",
       "      <td>120900430</td>\n",
       "      <td>pflugerville</td>\n",
       "      <td>1104 Strickling Dr</td>\n",
       "      <td>78660</td>\n",
       "      <td>Absolutely GORGEOUS 4 Bedroom home with 2 full...</td>\n",
       "      <td>30.43</td>\n",
       "      <td>-97.66</td>\n",
       "      <td>1.98</td>\n",
       "      <td>2</td>\n",
       "      <td>True</td>\n",
       "      <td>...</td>\n",
       "      <td>1</td>\n",
       "      <td>1</td>\n",
       "      <td>1</td>\n",
       "      <td>3</td>\n",
       "      <td>1063</td>\n",
       "      <td>14</td>\n",
       "      <td>2</td>\n",
       "      <td>4</td>\n",
       "      <td>1</td>\n",
       "      <td>120900430_8255c127be8dcf0a1a18b7563d987088-p_f...</td>\n",
       "    </tr>\n",
       "    <tr>\n",
       "      <th>2</th>\n",
       "      <td>2084491383</td>\n",
       "      <td>pflugerville</td>\n",
       "      <td>1408 Fort Dessau Rd</td>\n",
       "      <td>78660</td>\n",
       "      <td>Under construction - estimated completion in A...</td>\n",
       "      <td>30.41</td>\n",
       "      <td>-97.64</td>\n",
       "      <td>1.98</td>\n",
       "      <td>0</td>\n",
       "      <td>True</td>\n",
       "      <td>...</td>\n",
       "      <td>1</td>\n",
       "      <td>1</td>\n",
       "      <td>1</td>\n",
       "      <td>3</td>\n",
       "      <td>1108</td>\n",
       "      <td>14</td>\n",
       "      <td>2</td>\n",
       "      <td>3</td>\n",
       "      <td>1</td>\n",
       "      <td>2084491383_a2ad649e1a7a098111dcea084a11c855-p_...</td>\n",
       "    </tr>\n",
       "    <tr>\n",
       "      <th>3</th>\n",
       "      <td>120901374</td>\n",
       "      <td>pflugerville</td>\n",
       "      <td>1025 Strickling Dr</td>\n",
       "      <td>78660</td>\n",
       "      <td>Absolutely darling one story home in charming ...</td>\n",
       "      <td>30.43</td>\n",
       "      <td>-97.66</td>\n",
       "      <td>1.98</td>\n",
       "      <td>2</td>\n",
       "      <td>True</td>\n",
       "      <td>...</td>\n",
       "      <td>1</td>\n",
       "      <td>1</td>\n",
       "      <td>1</td>\n",
       "      <td>3</td>\n",
       "      <td>1063</td>\n",
       "      <td>14</td>\n",
       "      <td>2</td>\n",
       "      <td>3</td>\n",
       "      <td>1</td>\n",
       "      <td>120901374_b469367a619da85b1f5ceb69b675d88e-p_f...</td>\n",
       "    </tr>\n",
       "    <tr>\n",
       "      <th>4</th>\n",
       "      <td>60134862</td>\n",
       "      <td>pflugerville</td>\n",
       "      <td>15005 Donna Jane Loop</td>\n",
       "      <td>78660</td>\n",
       "      <td>Brimming with appeal &amp; warm livability! Sleek ...</td>\n",
       "      <td>30.44</td>\n",
       "      <td>-97.66</td>\n",
       "      <td>1.98</td>\n",
       "      <td>0</td>\n",
       "      <td>True</td>\n",
       "      <td>...</td>\n",
       "      <td>1</td>\n",
       "      <td>1</td>\n",
       "      <td>1</td>\n",
       "      <td>4</td>\n",
       "      <td>1223</td>\n",
       "      <td>14</td>\n",
       "      <td>3</td>\n",
       "      <td>3</td>\n",
       "      <td>2</td>\n",
       "      <td>60134862_b1a48a3df3f111e005bb913873e98ce2-p_f.jpg</td>\n",
       "    </tr>\n",
       "  </tbody>\n",
       "</table>\n",
       "<p>5 rows × 47 columns</p>\n",
       "</div>"
      ],
      "text/plain": [
       "         zpid          city          streetAddress  zipcode  \\\n",
       "0   111373431  pflugerville   14424 Lake Victor Dr    78660   \n",
       "1   120900430  pflugerville     1104 Strickling Dr    78660   \n",
       "2  2084491383  pflugerville    1408 Fort Dessau Rd    78660   \n",
       "3   120901374  pflugerville     1025 Strickling Dr    78660   \n",
       "4    60134862  pflugerville  15005 Donna Jane Loop    78660   \n",
       "\n",
       "                                         description  latitude  longitude  \\\n",
       "0  14424 Lake Victor Dr, Pflugerville, TX 78660 i...     30.43     -97.66   \n",
       "1  Absolutely GORGEOUS 4 Bedroom home with 2 full...     30.43     -97.66   \n",
       "2  Under construction - estimated completion in A...     30.41     -97.64   \n",
       "3  Absolutely darling one story home in charming ...     30.43     -97.66   \n",
       "4  Brimming with appeal & warm livability! Sleek ...     30.44     -97.66   \n",
       "\n",
       "   propertyTaxRate  garageSpaces  hasAssociation  ...  numOfMiddleSchools  \\\n",
       "0             1.98             2            True  ...                   1   \n",
       "1             1.98             2            True  ...                   1   \n",
       "2             1.98             0            True  ...                   1   \n",
       "3             1.98             2            True  ...                   1   \n",
       "4             1.98             0            True  ...                   1   \n",
       "\n",
       "   numOfHighSchools  avgSchoolDistance  avgSchoolRating  avgSchoolSize  \\\n",
       "0                 1                  1                3           1063   \n",
       "1                 1                  1                3           1063   \n",
       "2                 1                  1                3           1108   \n",
       "3                 1                  1                3           1063   \n",
       "4                 1                  1                4           1223   \n",
       "\n",
       "  MedianStudentsPerTeacher  numOfBathrooms  numOfBedrooms  numOfStories  \\\n",
       "0                       14               3              4             2   \n",
       "1                       14               2              4             1   \n",
       "2                       14               2              3             1   \n",
       "3                       14               2              3             1   \n",
       "4                       14               3              3             2   \n",
       "\n",
       "                                           homeImage  \n",
       "0  111373431_ffce26843283d3365c11d81b8e6bdc6f-p_f...  \n",
       "1  120900430_8255c127be8dcf0a1a18b7563d987088-p_f...  \n",
       "2  2084491383_a2ad649e1a7a098111dcea084a11c855-p_...  \n",
       "3  120901374_b469367a619da85b1f5ceb69b675d88e-p_f...  \n",
       "4  60134862_b1a48a3df3f111e005bb913873e98ce2-p_f.jpg  \n",
       "\n",
       "[5 rows x 47 columns]"
      ]
     },
     "execution_count": 4,
     "metadata": {},
     "output_type": "execute_result"
    }
   ],
   "source": [
    "#print the first several rows of the data\n",
    "AustinhousepriceMasterdata.head()"
   ]
  },
  {
   "cell_type": "code",
   "execution_count": 5,
   "id": "2cc3cef3",
   "metadata": {},
   "outputs": [
    {
     "data": {
      "text/plain": [
       "zpid                            int64\n",
       "city                           object\n",
       "streetAddress                  object\n",
       "zipcode                         int64\n",
       "description                    object\n",
       "latitude                      float64\n",
       "longitude                     float64\n",
       "propertyTaxRate               float64\n",
       "garageSpaces                    int64\n",
       "hasAssociation                   bool\n",
       "hasCooling                       bool\n",
       "hasGarage                        bool\n",
       "hasHeating                       bool\n",
       "hasSpa                           bool\n",
       "hasView                          bool\n",
       "homeType                       object\n",
       "parkingSpaces                   int64\n",
       "yearBuilt                       int64\n",
       "latestPrice                     int64\n",
       "numPriceChanges                 int64\n",
       "latest_saledate                object\n",
       "latest_salemonth                int64\n",
       "latest_saleyear                 int64\n",
       "latestPriceSource              object\n",
       "numOfPhotos                     int64\n",
       "numOfAccessibilityFeatures      int64\n",
       "numOfAppliances                 int64\n",
       "numOfParkingFeatures            int64\n",
       "numOfPatioAndPorchFeatures      int64\n",
       "numOfSecurityFeatures           int64\n",
       "numOfWaterfrontFeatures         int64\n",
       "numOfWindowFeatures             int64\n",
       "numOfCommunityFeatures          int64\n",
       "lotSizeSqFt                   float64\n",
       "livingAreaSqFt                float64\n",
       "numOfPrimarySchools             int64\n",
       "numOfElementarySchools          int64\n",
       "numOfMiddleSchools              int64\n",
       "numOfHighSchools                int64\n",
       "avgSchoolDistance               int64\n",
       "avgSchoolRating                 int64\n",
       "avgSchoolSize                   int64\n",
       "MedianStudentsPerTeacher        int64\n",
       "numOfBathrooms                  int64\n",
       "numOfBedrooms                   int64\n",
       "numOfStories                    int64\n",
       "homeImage                      object\n",
       "dtype: object"
      ]
     },
     "execution_count": 5,
     "metadata": {},
     "output_type": "execute_result"
    }
   ],
   "source": [
    "#Find datatypes by column for the Austingnouse price data set\n",
    "AustinhousepriceMasterdata.dtypes"
   ]
  },
  {
   "cell_type": "code",
   "execution_count": 6,
   "id": "08f9ee30",
   "metadata": {},
   "outputs": [
    {
     "data": {
      "text/plain": [
       "Single Family            0.938699\n",
       "Condo                    0.030980\n",
       "Townhouse                0.011469\n",
       "Multiple Occupancy       0.006328\n",
       "Vacant Land              0.005471\n",
       "Apartment                0.002439\n",
       "Residential              0.002439\n",
       "Mobile / Manufactured    0.001121\n",
       "MultiFamily              0.000659\n",
       "Other                    0.000395\n",
       "Name: homeType, dtype: float64"
      ]
     },
     "execution_count": 6,
     "metadata": {},
     "output_type": "execute_result"
    }
   ],
   "source": [
    "#Checking home type\n",
    "AustinhousepriceMasterdata['homeType'].value_counts(normalize=True)"
   ]
  },
  {
   "cell_type": "code",
   "execution_count": 7,
   "id": "f5af1b77",
   "metadata": {},
   "outputs": [
    {
     "data": {
      "text/html": [
       "<div>\n",
       "<style scoped>\n",
       "    .dataframe tbody tr th:only-of-type {\n",
       "        vertical-align: middle;\n",
       "    }\n",
       "\n",
       "    .dataframe tbody tr th {\n",
       "        vertical-align: top;\n",
       "    }\n",
       "\n",
       "    .dataframe thead th {\n",
       "        text-align: right;\n",
       "    }\n",
       "</style>\n",
       "<table border=\"1\" class=\"dataframe\">\n",
       "  <thead>\n",
       "    <tr style=\"text-align: right;\">\n",
       "      <th></th>\n",
       "      <th>zpid</th>\n",
       "      <th>city</th>\n",
       "      <th>streetAddress</th>\n",
       "      <th>zipcode</th>\n",
       "      <th>description</th>\n",
       "      <th>latitude</th>\n",
       "      <th>longitude</th>\n",
       "      <th>propertyTaxRate</th>\n",
       "      <th>garageSpaces</th>\n",
       "      <th>hasAssociation</th>\n",
       "      <th>...</th>\n",
       "      <th>numOfMiddleSchools</th>\n",
       "      <th>numOfHighSchools</th>\n",
       "      <th>avgSchoolDistance</th>\n",
       "      <th>avgSchoolRating</th>\n",
       "      <th>avgSchoolSize</th>\n",
       "      <th>MedianStudentsPerTeacher</th>\n",
       "      <th>numOfBathrooms</th>\n",
       "      <th>numOfBedrooms</th>\n",
       "      <th>numOfStories</th>\n",
       "      <th>homeImage</th>\n",
       "    </tr>\n",
       "  </thead>\n",
       "  <tbody>\n",
       "    <tr>\n",
       "      <th>0</th>\n",
       "      <td>111373431</td>\n",
       "      <td>pflugerville</td>\n",
       "      <td>14424 Lake Victor Dr</td>\n",
       "      <td>78660</td>\n",
       "      <td>14424 Lake Victor Dr, Pflugerville, TX 78660 i...</td>\n",
       "      <td>30.43</td>\n",
       "      <td>-97.66</td>\n",
       "      <td>1.98</td>\n",
       "      <td>2</td>\n",
       "      <td>1</td>\n",
       "      <td>...</td>\n",
       "      <td>1</td>\n",
       "      <td>1</td>\n",
       "      <td>1</td>\n",
       "      <td>3</td>\n",
       "      <td>1063</td>\n",
       "      <td>14</td>\n",
       "      <td>3</td>\n",
       "      <td>4</td>\n",
       "      <td>2</td>\n",
       "      <td>111373431_ffce26843283d3365c11d81b8e6bdc6f-p_f...</td>\n",
       "    </tr>\n",
       "    <tr>\n",
       "      <th>1</th>\n",
       "      <td>120900430</td>\n",
       "      <td>pflugerville</td>\n",
       "      <td>1104 Strickling Dr</td>\n",
       "      <td>78660</td>\n",
       "      <td>Absolutely GORGEOUS 4 Bedroom home with 2 full...</td>\n",
       "      <td>30.43</td>\n",
       "      <td>-97.66</td>\n",
       "      <td>1.98</td>\n",
       "      <td>2</td>\n",
       "      <td>1</td>\n",
       "      <td>...</td>\n",
       "      <td>1</td>\n",
       "      <td>1</td>\n",
       "      <td>1</td>\n",
       "      <td>3</td>\n",
       "      <td>1063</td>\n",
       "      <td>14</td>\n",
       "      <td>2</td>\n",
       "      <td>4</td>\n",
       "      <td>1</td>\n",
       "      <td>120900430_8255c127be8dcf0a1a18b7563d987088-p_f...</td>\n",
       "    </tr>\n",
       "    <tr>\n",
       "      <th>2</th>\n",
       "      <td>2084491383</td>\n",
       "      <td>pflugerville</td>\n",
       "      <td>1408 Fort Dessau Rd</td>\n",
       "      <td>78660</td>\n",
       "      <td>Under construction - estimated completion in A...</td>\n",
       "      <td>30.41</td>\n",
       "      <td>-97.64</td>\n",
       "      <td>1.98</td>\n",
       "      <td>0</td>\n",
       "      <td>1</td>\n",
       "      <td>...</td>\n",
       "      <td>1</td>\n",
       "      <td>1</td>\n",
       "      <td>1</td>\n",
       "      <td>3</td>\n",
       "      <td>1108</td>\n",
       "      <td>14</td>\n",
       "      <td>2</td>\n",
       "      <td>3</td>\n",
       "      <td>1</td>\n",
       "      <td>2084491383_a2ad649e1a7a098111dcea084a11c855-p_...</td>\n",
       "    </tr>\n",
       "    <tr>\n",
       "      <th>3</th>\n",
       "      <td>120901374</td>\n",
       "      <td>pflugerville</td>\n",
       "      <td>1025 Strickling Dr</td>\n",
       "      <td>78660</td>\n",
       "      <td>Absolutely darling one story home in charming ...</td>\n",
       "      <td>30.43</td>\n",
       "      <td>-97.66</td>\n",
       "      <td>1.98</td>\n",
       "      <td>2</td>\n",
       "      <td>1</td>\n",
       "      <td>...</td>\n",
       "      <td>1</td>\n",
       "      <td>1</td>\n",
       "      <td>1</td>\n",
       "      <td>3</td>\n",
       "      <td>1063</td>\n",
       "      <td>14</td>\n",
       "      <td>2</td>\n",
       "      <td>3</td>\n",
       "      <td>1</td>\n",
       "      <td>120901374_b469367a619da85b1f5ceb69b675d88e-p_f...</td>\n",
       "    </tr>\n",
       "    <tr>\n",
       "      <th>4</th>\n",
       "      <td>60134862</td>\n",
       "      <td>pflugerville</td>\n",
       "      <td>15005 Donna Jane Loop</td>\n",
       "      <td>78660</td>\n",
       "      <td>Brimming with appeal &amp; warm livability! Sleek ...</td>\n",
       "      <td>30.44</td>\n",
       "      <td>-97.66</td>\n",
       "      <td>1.98</td>\n",
       "      <td>0</td>\n",
       "      <td>1</td>\n",
       "      <td>...</td>\n",
       "      <td>1</td>\n",
       "      <td>1</td>\n",
       "      <td>1</td>\n",
       "      <td>4</td>\n",
       "      <td>1223</td>\n",
       "      <td>14</td>\n",
       "      <td>3</td>\n",
       "      <td>3</td>\n",
       "      <td>2</td>\n",
       "      <td>60134862_b1a48a3df3f111e005bb913873e98ce2-p_f.jpg</td>\n",
       "    </tr>\n",
       "  </tbody>\n",
       "</table>\n",
       "<p>5 rows × 47 columns</p>\n",
       "</div>"
      ],
      "text/plain": [
       "         zpid          city          streetAddress  zipcode  \\\n",
       "0   111373431  pflugerville   14424 Lake Victor Dr    78660   \n",
       "1   120900430  pflugerville     1104 Strickling Dr    78660   \n",
       "2  2084491383  pflugerville    1408 Fort Dessau Rd    78660   \n",
       "3   120901374  pflugerville     1025 Strickling Dr    78660   \n",
       "4    60134862  pflugerville  15005 Donna Jane Loop    78660   \n",
       "\n",
       "                                         description  latitude  longitude  \\\n",
       "0  14424 Lake Victor Dr, Pflugerville, TX 78660 i...     30.43     -97.66   \n",
       "1  Absolutely GORGEOUS 4 Bedroom home with 2 full...     30.43     -97.66   \n",
       "2  Under construction - estimated completion in A...     30.41     -97.64   \n",
       "3  Absolutely darling one story home in charming ...     30.43     -97.66   \n",
       "4  Brimming with appeal & warm livability! Sleek ...     30.44     -97.66   \n",
       "\n",
       "   propertyTaxRate  garageSpaces  hasAssociation  ...  numOfMiddleSchools  \\\n",
       "0             1.98             2               1  ...                   1   \n",
       "1             1.98             2               1  ...                   1   \n",
       "2             1.98             0               1  ...                   1   \n",
       "3             1.98             2               1  ...                   1   \n",
       "4             1.98             0               1  ...                   1   \n",
       "\n",
       "   numOfHighSchools  avgSchoolDistance  avgSchoolRating  avgSchoolSize  \\\n",
       "0                 1                  1                3           1063   \n",
       "1                 1                  1                3           1063   \n",
       "2                 1                  1                3           1108   \n",
       "3                 1                  1                3           1063   \n",
       "4                 1                  1                4           1223   \n",
       "\n",
       "  MedianStudentsPerTeacher  numOfBathrooms  numOfBedrooms  numOfStories  \\\n",
       "0                       14               3              4             2   \n",
       "1                       14               2              4             1   \n",
       "2                       14               2              3             1   \n",
       "3                       14               2              3             1   \n",
       "4                       14               3              3             2   \n",
       "\n",
       "                                           homeImage  \n",
       "0  111373431_ffce26843283d3365c11d81b8e6bdc6f-p_f...  \n",
       "1  120900430_8255c127be8dcf0a1a18b7563d987088-p_f...  \n",
       "2  2084491383_a2ad649e1a7a098111dcea084a11c855-p_...  \n",
       "3  120901374_b469367a619da85b1f5ceb69b675d88e-p_f...  \n",
       "4  60134862_b1a48a3df3f111e005bb913873e98ce2-p_f.jpg  \n",
       "\n",
       "[5 rows x 47 columns]"
      ]
     },
     "execution_count": 7,
     "metadata": {},
     "output_type": "execute_result"
    }
   ],
   "source": [
    "# Convert all boolean variables to numerical values\n",
    "AustinhousepriceMasterdata.replace({False: 0, True: 1}, inplace=True)\n",
    "AustinhousepriceMasterdata.head()"
   ]
  },
  {
   "cell_type": "code",
   "execution_count": 8,
   "id": "8783b46e",
   "metadata": {},
   "outputs": [
    {
     "data": {
      "text/plain": [
       "(14241, 47)"
      ]
     },
     "execution_count": 8,
     "metadata": {},
     "output_type": "execute_result"
    }
   ],
   "source": [
    "# Remove all home types other than single family since single family constitutes more than 90 percent of our dataset.\n",
    "Cleandata = AustinhousepriceMasterdata.loc[(AustinhousepriceMasterdata['homeType'] == 'Single Family') ]\n",
    "Cleandata.shape"
   ]
  },
  {
   "cell_type": "markdown",
   "id": "7ecde3d7",
   "metadata": {},
   "source": [
    "After including only single family types, now there are 14241 rows and 47 columns in the dataset"
   ]
  },
  {
   "cell_type": "code",
   "execution_count": 9,
   "id": "1783da6d",
   "metadata": {},
   "outputs": [
    {
     "data": {
      "text/plain": [
       "zpid                            int64\n",
       "city                           object\n",
       "streetAddress                  object\n",
       "zipcode                         int64\n",
       "description                    object\n",
       "latitude                      float64\n",
       "longitude                     float64\n",
       "propertyTaxRate               float64\n",
       "garageSpaces                    int64\n",
       "hasAssociation                  int64\n",
       "hasCooling                      int64\n",
       "hasGarage                       int64\n",
       "hasHeating                      int64\n",
       "hasSpa                          int64\n",
       "hasView                         int64\n",
       "homeType                       object\n",
       "parkingSpaces                   int64\n",
       "yearBuilt                       int64\n",
       "latestPrice                     int64\n",
       "numPriceChanges                 int64\n",
       "latest_saledate                object\n",
       "latest_salemonth                int64\n",
       "latest_saleyear                 int64\n",
       "latestPriceSource              object\n",
       "numOfPhotos                     int64\n",
       "numOfAccessibilityFeatures      int64\n",
       "numOfAppliances                 int64\n",
       "numOfParkingFeatures            int64\n",
       "numOfPatioAndPorchFeatures      int64\n",
       "numOfSecurityFeatures           int64\n",
       "numOfWaterfrontFeatures         int64\n",
       "numOfWindowFeatures             int64\n",
       "numOfCommunityFeatures          int64\n",
       "lotSizeSqFt                   float64\n",
       "livingAreaSqFt                float64\n",
       "numOfPrimarySchools             int64\n",
       "numOfElementarySchools          int64\n",
       "numOfMiddleSchools              int64\n",
       "numOfHighSchools                int64\n",
       "avgSchoolDistance               int64\n",
       "avgSchoolRating                 int64\n",
       "avgSchoolSize                   int64\n",
       "MedianStudentsPerTeacher        int64\n",
       "numOfBathrooms                  int64\n",
       "numOfBedrooms                   int64\n",
       "numOfStories                    int64\n",
       "homeImage                      object\n",
       "dtype: object"
      ]
     },
     "execution_count": 9,
     "metadata": {},
     "output_type": "execute_result"
    }
   ],
   "source": [
    "#Finding the type of the data\n",
    "Cleandata.dtypes"
   ]
  },
  {
   "cell_type": "markdown",
   "id": "bd5e73ce",
   "metadata": {},
   "source": [
    "# Checking for Missing values"
   ]
  },
  {
   "cell_type": "code",
   "execution_count": 10,
   "id": "6b7161dd",
   "metadata": {},
   "outputs": [
    {
     "data": {
      "text/plain": [
       "zpid                          0\n",
       "city                          0\n",
       "streetAddress                 0\n",
       "zipcode                       0\n",
       "description                   0\n",
       "latitude                      0\n",
       "longitude                     0\n",
       "propertyTaxRate               0\n",
       "garageSpaces                  0\n",
       "hasAssociation                0\n",
       "hasCooling                    0\n",
       "hasGarage                     0\n",
       "hasHeating                    0\n",
       "hasSpa                        0\n",
       "hasView                       0\n",
       "homeType                      0\n",
       "parkingSpaces                 0\n",
       "yearBuilt                     0\n",
       "latestPrice                   0\n",
       "numPriceChanges               0\n",
       "latest_saledate               0\n",
       "latest_salemonth              0\n",
       "latest_saleyear               0\n",
       "latestPriceSource             0\n",
       "numOfPhotos                   0\n",
       "numOfAccessibilityFeatures    0\n",
       "numOfAppliances               0\n",
       "numOfParkingFeatures          0\n",
       "numOfPatioAndPorchFeatures    0\n",
       "numOfSecurityFeatures         0\n",
       "numOfWaterfrontFeatures       0\n",
       "numOfWindowFeatures           0\n",
       "numOfCommunityFeatures        0\n",
       "lotSizeSqFt                   0\n",
       "livingAreaSqFt                0\n",
       "numOfPrimarySchools           0\n",
       "numOfElementarySchools        0\n",
       "numOfMiddleSchools            0\n",
       "numOfHighSchools              0\n",
       "avgSchoolDistance             0\n",
       "avgSchoolRating               0\n",
       "avgSchoolSize                 0\n",
       "MedianStudentsPerTeacher      0\n",
       "numOfBathrooms                0\n",
       "numOfBedrooms                 0\n",
       "numOfStories                  0\n",
       "homeImage                     0\n",
       "dtype: int64"
      ]
     },
     "execution_count": 10,
     "metadata": {},
     "output_type": "execute_result"
    }
   ],
   "source": [
    "#Count (using `.sum()`) the number of missing values (`.isnull()`) in each column of \n",
    "#Cleandata \n",
    "missing =Cleandata.isnull().sum(axis=0)\n",
    "missing"
   ]
  },
  {
   "cell_type": "markdown",
   "id": "3c96728b",
   "metadata": {},
   "source": [
    "There are no missing values"
   ]
  },
  {
   "cell_type": "markdown",
   "id": "b373d013",
   "metadata": {},
   "source": [
    "# Checking for Duplicates"
   ]
  },
  {
   "cell_type": "code",
   "execution_count": 11,
   "id": "e612da7f",
   "metadata": {},
   "outputs": [
    {
     "data": {
      "text/plain": [
       "0"
      ]
     },
     "execution_count": 11,
     "metadata": {},
     "output_type": "execute_result"
    }
   ],
   "source": [
    "Cleandata.duplicated().sum()"
   ]
  },
  {
   "cell_type": "markdown",
   "id": "3c5ba72e",
   "metadata": {},
   "source": [
    "There are no duplicate values"
   ]
  },
  {
   "cell_type": "markdown",
   "id": "d006e9fb",
   "metadata": {},
   "source": [
    "# Detecting Outliers"
   ]
  },
  {
   "cell_type": "code",
   "execution_count": 12,
   "id": "56b24e67",
   "metadata": {},
   "outputs": [
    {
     "data": {
      "text/plain": [
       "<AxesSubplot:xlabel='latestPrice'>"
      ]
     },
     "execution_count": 12,
     "metadata": {},
     "output_type": "execute_result"
    },
    {
     "data": {
      "image/png": "[encoded data removed]",
      "text/plain": [
       "<Figure size 432x288 with 1 Axes>"
      ]
     },
     "metadata": {
      "needs_background": "light"
     },
     "output_type": "display_data"
    }
   ],
   "source": [
    "#To find the outliers in price values\n",
    "sns.boxplot( x=Cleandata[\"latestPrice\"])"
   ]
  },
  {
   "cell_type": "markdown",
   "id": "f241e90d",
   "metadata": {},
   "source": [
    "The boxplot is showing strange features.Since price  will be the dependent variable, this needs to be analyzed in more detail.Hence to analyze the price in detail, we use the describe function in Python"
   ]
  },
  {
   "cell_type": "code",
   "execution_count": 13,
   "id": "5520c8d3",
   "metadata": {},
   "outputs": [
    {
     "data": {
      "text/plain": [
       "count    1.424100e+04\n",
       "mean     5.163879e+05\n",
       "std      4.469692e+05\n",
       "min      5.500000e+03\n",
       "25%      3.100000e+05\n",
       "50%      4.099000e+05\n",
       "75%      5.750000e+05\n",
       "max      1.350000e+07\n",
       "Name: latestPrice, dtype: float64"
      ]
     },
     "execution_count": 13,
     "metadata": {},
     "output_type": "execute_result"
    }
   ],
   "source": [
    "Cleandata['latestPrice'].describe()"
   ]
  },
  {
   "cell_type": "code",
   "execution_count": 14,
   "id": "8c274b5d",
   "metadata": {},
   "outputs": [
    {
     "name": "stdout",
     "output_type": "stream",
     "text": [
      "5500\n"
     ]
    }
   ],
   "source": [
    "#To understand the maximum value in decimal \n",
    "from decimal import Decimal\n",
    "\n",
    "min =5.500000e+03\n",
    "\n",
    "print(Decimal(min)) "
   ]
  },
  {
   "cell_type": "markdown",
   "id": "36c132b0",
   "metadata": {},
   "source": [
    "5500 is the minimum value for Price"
   ]
  },
  {
   "cell_type": "code",
   "execution_count": 15,
   "id": "fd56db38",
   "metadata": {},
   "outputs": [
    {
     "name": "stdout",
     "output_type": "stream",
     "text": [
      "13500000\n"
     ]
    }
   ],
   "source": [
    "#To find the maximum value in Decimal\n",
    "max=1.350000e+07\n",
    "print(Decimal(max))"
   ]
  },
  {
   "cell_type": "markdown",
   "id": "6a524a7b",
   "metadata": {},
   "source": [
    "13500000 is the maximum value for Price"
   ]
  },
  {
   "cell_type": "code",
   "execution_count": 16,
   "id": "0d7553de",
   "metadata": {},
   "outputs": [
    {
     "name": "stdout",
     "output_type": "stream",
     "text": [
      "446969.2000000000116415321826934814453125\n"
     ]
    }
   ],
   "source": [
    "#To find the standard deviation in decimal\n",
    "std=4.469692e+05\n",
    "print(Decimal(std))"
   ]
  },
  {
   "cell_type": "markdown",
   "id": "0482ef10",
   "metadata": {},
   "source": [
    "446969.2000000000116415321826934814453125 is the standard deviation of Price"
   ]
  },
  {
   "cell_type": "code",
   "execution_count": 17,
   "id": "87862ab9",
   "metadata": {},
   "outputs": [
    {
     "name": "stderr",
     "output_type": "stream",
     "text": [
      "C:\\Users\\leksh\\anaconda3\\lib\\site-packages\\pandas\\core\\frame.py:4308: SettingWithCopyWarning: \n",
      "A value is trying to be set on a copy of a slice from a DataFrame\n",
      "\n",
      "See the caveats in the documentation: https://pandas.pydata.org/pandas-docs/stable/user_guide/indexing.html#returning-a-view-versus-a-copy\n",
      "  return super().drop(\n"
     ]
    },
    {
     "data": {
      "text/plain": [
       "(13720, 47)"
      ]
     },
     "execution_count": 17,
     "metadata": {},
     "output_type": "execute_result"
    }
   ],
   "source": [
    "#Remove all the rows where price value is greater than  three times the standard deviation\n",
    "Cleandata.drop(Cleandata[Cleandata['latestPrice']>3*446969.2000000000116415321826934814453125].index , inplace=True)\n",
    "Cleandata.shape"
   ]
  },
  {
   "cell_type": "markdown",
   "id": "a1e50d07",
   "metadata": {},
   "source": [
    "The new data set has 13720 rows and 47 columns"
   ]
  },
  {
   "cell_type": "code",
   "execution_count": 18,
   "id": "22631cfe",
   "metadata": {},
   "outputs": [
    {
     "data": {
      "text/plain": [
       "<AxesSubplot:xlabel='latestPrice'>"
      ]
     },
     "execution_count": 18,
     "metadata": {},
     "output_type": "execute_result"
    },
    {
     "data": {
      "image/png": "[encoded data removed]",
      "text/plain": [
       "<Figure size 432x288 with 1 Axes>"
      ]
     },
     "metadata": {
      "needs_background": "light"
     },
     "output_type": "display_data"
    }
   ],
   "source": [
    "#Draw the boxplot of the new dataset\n",
    "sns.boxplot( x=Cleandata[\"latestPrice\"])"
   ]
  },
  {
   "cell_type": "markdown",
   "id": "ab5ac280",
   "metadata": {},
   "source": [
    "The new data set has most outliers removed for the Price Variable and it has a clear pattern now"
   ]
  },
  {
   "cell_type": "code",
   "execution_count": 19,
   "id": "96a9c64f",
   "metadata": {},
   "outputs": [
    {
     "data": {
      "text/plain": [
       "count    1.372000e+04\n",
       "mean     4.545738e+05\n",
       "std      2.172203e+05\n",
       "min      5.500000e+03\n",
       "25%      3.050000e+05\n",
       "50%      3.999000e+05\n",
       "75%      5.499592e+05\n",
       "max      1.327000e+06\n",
       "Name: latestPrice, dtype: float64"
      ]
     },
     "execution_count": 19,
     "metadata": {},
     "output_type": "execute_result"
    }
   ],
   "source": [
    "Cleandata['latestPrice'].describe()"
   ]
  },
  {
   "cell_type": "code",
   "execution_count": 20,
   "id": "8d502466",
   "metadata": {},
   "outputs": [
    {
     "data": {
      "text/plain": [
       "<AxesSubplot:xlabel='latitude'>"
      ]
     },
     "execution_count": 20,
     "metadata": {},
     "output_type": "execute_result"
    },
    {
     "data": {
      "image/png": "[encoded data removed]",
      "text/plain": [
       "<Figure size 432x288 with 1 Axes>"
      ]
     },
     "metadata": {
      "needs_background": "light"
     },
     "output_type": "display_data"
    }
   ],
   "source": [
    "#Find the outliers for latitude\n",
    "sns.boxplot(x=Cleandata[\"latitude\"])"
   ]
  },
  {
   "cell_type": "code",
   "execution_count": 21,
   "id": "02bfc552",
   "metadata": {},
   "outputs": [
    {
     "data": {
      "text/plain": [
       "<AxesSubplot:xlabel='longitude'>"
      ]
     },
     "execution_count": 21,
     "metadata": {},
     "output_type": "execute_result"
    },
    {
     "data": {
      "image/png": "[encoded data removed]",
      "text/plain": [
       "<Figure size 432x288 with 1 Axes>"
      ]
     },
     "metadata": {
      "needs_background": "light"
     },
     "output_type": "display_data"
    }
   ],
   "source": [
    "#Find the outliers for longitude\n",
    "sns.boxplot(x=Cleandata[\"longitude\"])\n"
   ]
  },
  {
   "cell_type": "markdown",
   "id": "bfcb0899",
   "metadata": {},
   "source": [
    "There are no outliers for both latitude and longitude"
   ]
  },
  {
   "cell_type": "code",
   "execution_count": 22,
   "id": "d5f15932",
   "metadata": {},
   "outputs": [
    {
     "data": {
      "text/plain": [
       "<AxesSubplot:xlabel='garageSpaces'>"
      ]
     },
     "execution_count": 22,
     "metadata": {},
     "output_type": "execute_result"
    },
    {
     "data": {
      "image/png": "[encoded data removed]",
      "text/plain": [
       "<Figure size 432x288 with 1 Axes>"
      ]
     },
     "metadata": {
      "needs_background": "light"
     },
     "output_type": "display_data"
    }
   ],
   "source": [
    "#Find the outliers for garage spaces\n",
    "sns.boxplot(x=Cleandata[\"garageSpaces\"])\n"
   ]
  },
  {
   "cell_type": "code",
   "execution_count": 23,
   "id": "f44da8c4",
   "metadata": {},
   "outputs": [
    {
     "data": {
      "text/plain": [
       "<AxesSubplot:xlabel='parkingSpaces'>"
      ]
     },
     "execution_count": 23,
     "metadata": {},
     "output_type": "execute_result"
    },
    {
     "data": {
      "image/png": "[encoded data removed]",
      "text/plain": [
       "<Figure size 432x288 with 1 Axes>"
      ]
     },
     "metadata": {
      "needs_background": "light"
     },
     "output_type": "display_data"
    }
   ],
   "source": [
    "#Find the outliers for parking spaces\n",
    "sns.boxplot(x=Cleandata[\"parkingSpaces\"])"
   ]
  },
  {
   "cell_type": "markdown",
   "id": "ba71d5d9",
   "metadata": {},
   "source": [
    "some outliers for parkspaces and garage spaces"
   ]
  },
  {
   "cell_type": "code",
   "execution_count": 24,
   "id": "6cdd9f28",
   "metadata": {},
   "outputs": [
    {
     "data": {
      "text/plain": [
       "<AxesSubplot:xlabel='yearBuilt'>"
      ]
     },
     "execution_count": 24,
     "metadata": {},
     "output_type": "execute_result"
    },
    {
     "data": {
      "image/png": "[encoded data removed]",
      "text/plain": [
       "<Figure size 432x288 with 1 Axes>"
      ]
     },
     "metadata": {
      "needs_background": "light"
     },
     "output_type": "display_data"
    }
   ],
   "source": [
    "#Find the outliers for year built\n",
    "sns.boxplot(x=Cleandata[\"yearBuilt\"])"
   ]
  },
  {
   "cell_type": "code",
   "execution_count": 25,
   "id": "bb51f03c",
   "metadata": {},
   "outputs": [
    {
     "data": {
      "text/plain": [
       "<AxesSubplot:xlabel='lotSizeSqFt'>"
      ]
     },
     "execution_count": 25,
     "metadata": {},
     "output_type": "execute_result"
    },
    {
     "data": {
      "image/png": "[encoded data removed]",
      "text/plain": [
       "<Figure size 432x288 with 1 Axes>"
      ]
     },
     "metadata": {
      "needs_background": "light"
     },
     "output_type": "display_data"
    }
   ],
   "source": [
    "#Find the outliers for lotSizeSq feet\n",
    "sns.boxplot(x=Cleandata[\"lotSizeSqFt\"])"
   ]
  },
  {
   "cell_type": "markdown",
   "id": "8ee56a06",
   "metadata": {},
   "source": [
    "There are no clear patterns for lotSizeSqFt, hence it is analyzed in detail using describe function"
   ]
  },
  {
   "cell_type": "code",
   "execution_count": 26,
   "id": "c2b1cb3e",
   "metadata": {},
   "outputs": [
    {
     "data": {
      "text/plain": [
       "count    1.372000e+04\n",
       "mean     1.489106e+04\n",
       "std      1.451866e+05\n",
       "min      1.130000e+02\n",
       "25%      6.577000e+03\n",
       "50%      8.276000e+03\n",
       "75%      1.080200e+04\n",
       "max      8.712000e+06\n",
       "Name: lotSizeSqFt, dtype: float64"
      ]
     },
     "execution_count": 26,
     "metadata": {},
     "output_type": "execute_result"
    }
   ],
   "source": [
    "#Find the outliers for lotSize sqfeet\n",
    "Cleandata['lotSizeSqFt'].describe()"
   ]
  },
  {
   "cell_type": "code",
   "execution_count": 27,
   "id": "4d155bc3",
   "metadata": {},
   "outputs": [
    {
     "name": "stdout",
     "output_type": "stream",
     "text": [
      "113\n"
     ]
    }
   ],
   "source": [
    "#Print minimum value of lotsizesqfeet as decimal to understand more clearly\n",
    "min= 1.130000e+02\n",
    "print(Decimal(min))"
   ]
  },
  {
   "cell_type": "code",
   "execution_count": 28,
   "id": "75622139",
   "metadata": {},
   "outputs": [
    {
     "name": "stdout",
     "output_type": "stream",
     "text": [
      "8712000\n"
     ]
    }
   ],
   "source": [
    "#Print maximum value of lotsizesqfeet as decimal to understand more clearly\n",
    "max=8.712000e+06\n",
    "print(Decimal(max))"
   ]
  },
  {
   "cell_type": "code",
   "execution_count": 29,
   "id": "69a2aa9f",
   "metadata": {},
   "outputs": [
    {
     "name": "stdout",
     "output_type": "stream",
     "text": [
      "145186.60000000000582076609134674072265625\n"
     ]
    }
   ],
   "source": [
    "##Print standard deviation of lotsizesqfeet as decimal to understand more clearly\n",
    "std= 1.451866e+05\n",
    "print(Decimal(std))"
   ]
  },
  {
   "cell_type": "code",
   "execution_count": 30,
   "id": "3b73b28b",
   "metadata": {},
   "outputs": [
    {
     "name": "stderr",
     "output_type": "stream",
     "text": [
      "C:\\Users\\leksh\\anaconda3\\lib\\site-packages\\pandas\\core\\frame.py:4308: SettingWithCopyWarning: \n",
      "A value is trying to be set on a copy of a slice from a DataFrame\n",
      "\n",
      "See the caveats in the documentation: https://pandas.pydata.org/pandas-docs/stable/user_guide/indexing.html#returning-a-view-versus-a-copy\n",
      "  return super().drop(\n"
     ]
    }
   ],
   "source": [
    "#Remove all the rows where lotsizesquare feet value is greater than  three times the standard deviation\n",
    "Cleandata.drop(Cleandata[Cleandata['lotSizeSqFt']>3*145186.60000000000582076609134674072265625].index, inplace = True)"
   ]
  },
  {
   "cell_type": "code",
   "execution_count": 31,
   "id": "ba3e9070",
   "metadata": {},
   "outputs": [
    {
     "data": {
      "text/plain": [
       "<AxesSubplot:xlabel='lotSizeSqFt'>"
      ]
     },
     "execution_count": 31,
     "metadata": {},
     "output_type": "execute_result"
    },
    {
     "data": {
      "image/png": "[encoded data removed]",
      "text/plain": [
       "<Figure size 432x288 with 1 Axes>"
      ]
     },
     "metadata": {
      "needs_background": "light"
     },
     "output_type": "display_data"
    }
   ],
   "source": [
    "#Now find the outliers of lotSize sqfeet after removing the above values\n",
    "sns.boxplot(x=Cleandata[\"lotSizeSqFt\"])"
   ]
  },
  {
   "cell_type": "markdown",
   "id": "1e88c1c1",
   "metadata": {},
   "source": [
    "Now the pattern of lotSizeSqfeet becomes clearer."
   ]
  },
  {
   "cell_type": "code",
   "execution_count": 32,
   "id": "11bbb259",
   "metadata": {},
   "outputs": [
    {
     "data": {
      "text/plain": [
       "<AxesSubplot:xlabel='numPriceChanges'>"
      ]
     },
     "execution_count": 32,
     "metadata": {},
     "output_type": "execute_result"
    },
    {
     "data": {
      "image/png": "[encoded data removed]",
      "text/plain": [
       "<Figure size 432x288 with 1 Axes>"
      ]
     },
     "metadata": {
      "needs_background": "light"
     },
     "output_type": "display_data"
    }
   ],
   "source": [
    "#Find the outliers for numProce Changes\n",
    "sns.boxplot(x=Cleandata[\"numPriceChanges\"])"
   ]
  },
  {
   "cell_type": "markdown",
   "id": "1e6531cc",
   "metadata": {},
   "source": [
    "There are some outliers for number of Price Changes"
   ]
  },
  {
   "cell_type": "code",
   "execution_count": 33,
   "id": "4f56dec8",
   "metadata": {},
   "outputs": [
    {
     "data": {
      "text/plain": [
       "<AxesSubplot:xlabel='numOfAccessibilityFeatures'>"
      ]
     },
     "execution_count": 33,
     "metadata": {},
     "output_type": "execute_result"
    },
    {
     "data": {
      "image/png": "[encoded data removed]",
      "text/plain": [
       "<Figure size 432x288 with 1 Axes>"
      ]
     },
     "metadata": {
      "needs_background": "light"
     },
     "output_type": "display_data"
    }
   ],
   "source": [
    "#Find the outliers for numof accessibility fetaures\n",
    "sns.boxplot(x=Cleandata[\"numOfAccessibilityFeatures\"])"
   ]
  },
  {
   "cell_type": "markdown",
   "id": "ba886bc8",
   "metadata": {},
   "source": [
    "There are no clear patterns for numOfAccessibilityFeatures, hence it is analyzed in detail using describe function"
   ]
  },
  {
   "cell_type": "code",
   "execution_count": 34,
   "id": "d95fffc3",
   "metadata": {},
   "outputs": [
    {
     "data": {
      "text/plain": [
       "count    13704.000000\n",
       "mean         0.013062\n",
       "std          0.183749\n",
       "min          0.000000\n",
       "25%          0.000000\n",
       "50%          0.000000\n",
       "75%          0.000000\n",
       "max          8.000000\n",
       "Name: numOfAccessibilityFeatures, dtype: float64"
      ]
     },
     "execution_count": 34,
     "metadata": {},
     "output_type": "execute_result"
    }
   ],
   "source": [
    "Cleandata['numOfAccessibilityFeatures'].describe()"
   ]
  },
  {
   "cell_type": "code",
   "execution_count": 35,
   "id": "6b6a3bfb",
   "metadata": {},
   "outputs": [
    {
     "data": {
      "text/plain": [
       "<AxesSubplot:xlabel='livingAreaSqFt'>"
      ]
     },
     "execution_count": 35,
     "metadata": {},
     "output_type": "execute_result"
    },
    {
     "data": {
      "image/png": "[encoded data removed]",
      "text/plain": [
       "<Figure size 432x288 with 1 Axes>"
      ]
     },
     "metadata": {
      "needs_background": "light"
     },
     "output_type": "display_data"
    }
   ],
   "source": [
    "#Find the outlier for livingareaSqfeet\n",
    "sns.boxplot(x=Cleandata[\"livingAreaSqFt\"])"
   ]
  },
  {
   "cell_type": "code",
   "execution_count": 36,
   "id": "3f581bf4",
   "metadata": {},
   "outputs": [
    {
     "data": {
      "text/plain": [
       "<AxesSubplot:xlabel='numOfBathrooms'>"
      ]
     },
     "execution_count": 36,
     "metadata": {},
     "output_type": "execute_result"
    },
    {
     "data": {
      "image/png": "[encoded data removed]",
      "text/plain": [
       "<Figure size 432x288 with 1 Axes>"
      ]
     },
     "metadata": {
      "needs_background": "light"
     },
     "output_type": "display_data"
    }
   ],
   "source": [
    "#Find the outlier for numof bathrooms\n",
    "sns.boxplot(x=Cleandata[\"numOfBathrooms\"])"
   ]
  },
  {
   "cell_type": "markdown",
   "id": "2fab265e",
   "metadata": {},
   "source": [
    "The above plot shows that the row with value 27 is an outlier for the number of bathrooms"
   ]
  },
  {
   "cell_type": "code",
   "execution_count": 37,
   "id": "c1bf6cd5",
   "metadata": {},
   "outputs": [
    {
     "name": "stderr",
     "output_type": "stream",
     "text": [
      "C:\\Users\\leksh\\anaconda3\\lib\\site-packages\\pandas\\core\\frame.py:4308: SettingWithCopyWarning: \n",
      "A value is trying to be set on a copy of a slice from a DataFrame\n",
      "\n",
      "See the caveats in the documentation: https://pandas.pydata.org/pandas-docs/stable/user_guide/indexing.html#returning-a-view-versus-a-copy\n",
      "  return super().drop(\n"
     ]
    }
   ],
   "source": [
    "# Remove the outlier  for num of bathrooms\n",
    "Cleandata.drop(Cleandata[Cleandata['numOfBathrooms']>=27].index, inplace = True)"
   ]
  },
  {
   "cell_type": "code",
   "execution_count": 38,
   "id": "9f4d7c93",
   "metadata": {},
   "outputs": [
    {
     "data": {
      "text/plain": [
       "<AxesSubplot:xlabel='numOfBedrooms'>"
      ]
     },
     "execution_count": 38,
     "metadata": {},
     "output_type": "execute_result"
    },
    {
     "data": {
      "image/png": "[encoded data removed]",
      "text/plain": [
       "<Figure size 432x288 with 1 Axes>"
      ]
     },
     "metadata": {
      "needs_background": "light"
     },
     "output_type": "display_data"
    }
   ],
   "source": [
    "#Find the outlier for numof bedrooms\n",
    "sns.boxplot(x=Cleandata[\"numOfBedrooms\"])"
   ]
  },
  {
   "cell_type": "code",
   "execution_count": 39,
   "id": "dc9108cb",
   "metadata": {},
   "outputs": [
    {
     "data": {
      "text/plain": [
       "count    13703.000000\n",
       "mean         3.444355\n",
       "std          0.753880\n",
       "min          0.000000\n",
       "25%          3.000000\n",
       "50%          3.000000\n",
       "75%          4.000000\n",
       "max          8.000000\n",
       "Name: numOfBedrooms, dtype: float64"
      ]
     },
     "execution_count": 39,
     "metadata": {},
     "output_type": "execute_result"
    }
   ],
   "source": [
    "Cleandata['numOfBedrooms'].describe()"
   ]
  },
  {
   "cell_type": "code",
   "execution_count": 40,
   "id": "0eaa1491",
   "metadata": {},
   "outputs": [
    {
     "data": {
      "text/plain": [
       "<AxesSubplot:xlabel='avgSchoolDistance'>"
      ]
     },
     "execution_count": 40,
     "metadata": {},
     "output_type": "execute_result"
    },
    {
     "data": {
      "image/png": "[encoded data removed]",
      "text/plain": [
       "<Figure size 432x288 with 1 Axes>"
      ]
     },
     "metadata": {
      "needs_background": "light"
     },
     "output_type": "display_data"
    }
   ],
   "source": [
    "#Find the outliers for averageschool distance\n",
    "sns.boxplot(x=Cleandata[\"avgSchoolDistance\"])"
   ]
  },
  {
   "cell_type": "markdown",
   "id": "eff90ebe",
   "metadata": {},
   "source": [
    "There are some  outliers for Number of bedrooms, number of bathrooms and average school distance"
   ]
  },
  {
   "cell_type": "code",
   "execution_count": 41,
   "id": "10ae232a",
   "metadata": {},
   "outputs": [
    {
     "data": {
      "text/plain": [
       "<AxesSubplot:xlabel='avgSchoolRating'>"
      ]
     },
     "execution_count": 41,
     "metadata": {},
     "output_type": "execute_result"
    },
    {
     "data": {
      "image/png": "[encoded data removed]",
      "text/plain": [
       "<Figure size 432x288 with 1 Axes>"
      ]
     },
     "metadata": {
      "needs_background": "light"
     },
     "output_type": "display_data"
    }
   ],
   "source": [
    "#Find teh outliers for average school rating\n",
    "sns.boxplot(x=Cleandata[\"avgSchoolRating\"])"
   ]
  },
  {
   "cell_type": "markdown",
   "id": "dd869719",
   "metadata": {},
   "source": [
    "No outlier  for average school rating"
   ]
  },
  {
   "cell_type": "code",
   "execution_count": 42,
   "id": "d07159aa",
   "metadata": {},
   "outputs": [
    {
     "data": {
      "text/plain": [
       "<AxesSubplot:xlabel='numOfCommunityFeatures'>"
      ]
     },
     "execution_count": 42,
     "metadata": {},
     "output_type": "execute_result"
    },
    {
     "data": {
      "image/png": "[encoded data removed]",
      "text/plain": [
       "<Figure size 432x288 with 1 Axes>"
      ]
     },
     "metadata": {
      "needs_background": "light"
     },
     "output_type": "display_data"
    }
   ],
   "source": [
    "#Find the outliers for Numofcommunity features\n",
    "sns.boxplot(x=Cleandata[\"numOfCommunityFeatures\"])"
   ]
  },
  {
   "cell_type": "code",
   "execution_count": 43,
   "id": "65dc3ff5",
   "metadata": {},
   "outputs": [
    {
     "data": {
      "text/plain": [
       "count    13703.000000\n",
       "mean         0.011895\n",
       "std          0.114316\n",
       "min          0.000000\n",
       "25%          0.000000\n",
       "50%          0.000000\n",
       "75%          0.000000\n",
       "max          3.000000\n",
       "Name: numOfCommunityFeatures, dtype: float64"
      ]
     },
     "execution_count": 43,
     "metadata": {},
     "output_type": "execute_result"
    }
   ],
   "source": [
    "#Since the above plot shows no clear pattern, this variable is analyzed using describe function\n",
    "Cleandata['numOfCommunityFeatures'].describe()"
   ]
  },
  {
   "cell_type": "markdown",
   "id": "716e2581",
   "metadata": {},
   "source": [
    "# Visualizations for understanding the relationship of features with price"
   ]
  },
  {
   "cell_type": "code",
   "execution_count": 44,
   "id": "98b2b856",
   "metadata": {},
   "outputs": [
    {
     "data": {
      "image/png": "[encoded data removed]",
      "text/plain": [
       "<Figure size 432x288 with 1 Axes>"
      ]
     },
     "metadata": {
      "needs_background": "light"
     },
     "output_type": "display_data"
    }
   ],
   "source": [
    "#Find scatterplot between zipcode and price\n",
    "plt.scatter(Cleandata[\"zipcode\"],Cleandata[\"latestPrice\"])\n",
    "plt.show()"
   ]
  },
  {
   "cell_type": "markdown",
   "id": "b1621468",
   "metadata": {},
   "source": [
    "The above plot does not show clear relation between zipcode and price since zipcode is considered a numeric variable.Hence it needs to be converted a string variable first"
   ]
  },
  {
   "cell_type": "code",
   "execution_count": 45,
   "id": "af3ef73b",
   "metadata": {},
   "outputs": [
    {
     "name": "stderr",
     "output_type": "stream",
     "text": [
      "<ipython-input-45-6745936aa28a>:3: SettingWithCopyWarning: \n",
      "A value is trying to be set on a copy of a slice from a DataFrame.\n",
      "Try using .loc[row_indexer,col_indexer] = value instead\n",
      "\n",
      "See the caveats in the documentation: https://pandas.pydata.org/pandas-docs/stable/user_guide/indexing.html#returning-a-view-versus-a-copy\n",
      "  Cleandata['zipcode'] = Cleandata['zipcode'].astype(str).str.zfill(5)\n"
     ]
    },
    {
     "data": {
      "text/plain": [
       "zpid                            int64\n",
       "city                           object\n",
       "streetAddress                  object\n",
       "zipcode                        object\n",
       "description                    object\n",
       "latitude                      float64\n",
       "longitude                     float64\n",
       "propertyTaxRate               float64\n",
       "garageSpaces                    int64\n",
       "hasAssociation                  int64\n",
       "hasCooling                      int64\n",
       "hasGarage                       int64\n",
       "hasHeating                      int64\n",
       "hasSpa                          int64\n",
       "hasView                         int64\n",
       "homeType                       object\n",
       "parkingSpaces                   int64\n",
       "yearBuilt                       int64\n",
       "latestPrice                     int64\n",
       "numPriceChanges                 int64\n",
       "latest_saledate                object\n",
       "latest_salemonth                int64\n",
       "latest_saleyear                 int64\n",
       "latestPriceSource              object\n",
       "numOfPhotos                     int64\n",
       "numOfAccessibilityFeatures      int64\n",
       "numOfAppliances                 int64\n",
       "numOfParkingFeatures            int64\n",
       "numOfPatioAndPorchFeatures      int64\n",
       "numOfSecurityFeatures           int64\n",
       "numOfWaterfrontFeatures         int64\n",
       "numOfWindowFeatures             int64\n",
       "numOfCommunityFeatures          int64\n",
       "lotSizeSqFt                   float64\n",
       "livingAreaSqFt                float64\n",
       "numOfPrimarySchools             int64\n",
       "numOfElementarySchools          int64\n",
       "numOfMiddleSchools              int64\n",
       "numOfHighSchools                int64\n",
       "avgSchoolDistance               int64\n",
       "avgSchoolRating                 int64\n",
       "avgSchoolSize                   int64\n",
       "MedianStudentsPerTeacher        int64\n",
       "numOfBathrooms                  int64\n",
       "numOfBedrooms                   int64\n",
       "numOfStories                    int64\n",
       "homeImage                      object\n",
       "dtype: object"
      ]
     },
     "execution_count": 45,
     "metadata": {},
     "output_type": "execute_result"
    }
   ],
   "source": [
    "#Convert zipcode from numeric  to string \n",
    "\n",
    "Cleandata['zipcode'] = Cleandata['zipcode'].astype(str).str.zfill(5)\n",
    "Cleandata.dtypes"
   ]
  },
  {
   "cell_type": "code",
   "execution_count": 46,
   "id": "0d7a35a2",
   "metadata": {},
   "outputs": [
    {
     "name": "stderr",
     "output_type": "stream",
     "text": [
      "C:\\Users\\leksh\\anaconda3\\lib\\site-packages\\pandas\\core\\series.py:4509: SettingWithCopyWarning: \n",
      "A value is trying to be set on a copy of a slice from a DataFrame\n",
      "\n",
      "See the caveats in the documentation: https://pandas.pydata.org/pandas-docs/stable/user_guide/indexing.html#returning-a-view-versus-a-copy\n",
      "  return super().replace(\n"
     ]
    },
    {
     "data": {
      "text/plain": [
       "0        3\n",
       "1        3\n",
       "2        3\n",
       "3        3\n",
       "4        3\n",
       "        ..\n",
       "15165    8\n",
       "15166    8\n",
       "15167    8\n",
       "15168    4\n",
       "15170    4\n",
       "Name: zipcode, Length: 13703, dtype: object"
      ]
     },
     "execution_count": 46,
     "metadata": {},
     "output_type": "execute_result"
    }
   ],
   "source": [
    "# Group the zipcode variable into 9 categories based on the SECOND, third and fourth digits\n",
    "Cleandata[\"zipcode\"].replace({\"78617\":\"1\",\"78619\":\"1\",\"78652\":\"2\",\"78653\":\"2\",\"78660\":\"3\",\"78701\":\"4\",\"78702\":\"4\",\"78703\":\"4\",\"78704\":\"4\",\"78705\":\"4\",\"78717\":\"5\",\"78719\":\"5\",\"78721\":\"6\",\"78722\":\"6\",\"78723\":\"6\",\"78724\":\"6\",\"78725\":\"6\",\"78726\":\"6\",\"78727\":\"6\",\"78728\":\"6\",\"78729\":\"6\",\"78730\":\"7\",\"78731\":\"7\",\"78732\":\"7\",\"78733\":\"7\",\"78734\":\"7\",\"78735\":\"7\",\"78736\":\"7\",\"78737\":\"7\",\"78738\":\"7\",\"78739\":\"7\",\"78741\":\"8\",\"78742\":\"8\",\"78744\":\"8\",\"78745\":\"8\",\"78746\":\"8\",\"78747\":\"8\",\"78748\":\"8\",\"78749\":\"8\",\"78750\":\"9\",\"78751\":\"9\",\"78752\":\"9\",\"78753\":\"9\",\"78754\":\"9\",\"78755\":\"9\",\"78756\":\"9\",\"78757\":\"9\",\"78758\":\"9\",\"78759\":\"9\"}, inplace=True)\n",
    "Cleandata[\"zipcode\"]"
   ]
  },
  {
   "cell_type": "code",
   "execution_count": 47,
   "id": "4c8294cf",
   "metadata": {},
   "outputs": [
    {
     "data": {
      "text/plain": [
       "<AxesSubplot:xlabel='zipcode', ylabel='latestPrice'>"
      ]
     },
     "execution_count": 47,
     "metadata": {},
     "output_type": "execute_result"
    },
    {
     "data": {
      "image/png": "[encoded data removed]",
      "text/plain": [
       "<Figure size 432x288 with 1 Axes>"
      ]
     },
     "metadata": {
      "needs_background": "light"
     },
     "output_type": "display_data"
    }
   ],
   "source": [
    "# Find the relation between the grouped zipcode variable and price\n",
    "sns.barplot(x=\"zipcode\", y=\"latestPrice\", data=Cleandata)"
   ]
  },
  {
   "cell_type": "markdown",
   "id": "f2a1ba6f",
   "metadata": {},
   "source": [
    "Now the above plot clear relation between zipcode and price"
   ]
  },
  {
   "cell_type": "code",
   "execution_count": 48,
   "id": "76edf531",
   "metadata": {},
   "outputs": [
    {
     "data": {
      "image/png": "[encoded data removed]",
      "text/plain": [
       "<Figure size 432x288 with 1 Axes>"
      ]
     },
     "metadata": {
      "needs_background": "light"
     },
     "output_type": "display_data"
    }
   ],
   "source": [
    "#Find the relationship between propertytaxrate and price\n",
    "plt.scatter(Cleandata[\"propertyTaxRate\"],Cleandata[\"latestPrice\"])\n",
    "plt.show()"
   ]
  },
  {
   "cell_type": "code",
   "execution_count": 49,
   "id": "a5b04fb4",
   "metadata": {},
   "outputs": [
    {
     "data": {
      "image/png": "[encoded data removed]",
      "text/plain": [
       "<Figure size 432x288 with 1 Axes>"
      ]
     },
     "metadata": {
      "needs_background": "light"
     },
     "output_type": "display_data"
    }
   ],
   "source": [
    "#Find the rleationship between garage spaces and price\n",
    "plt.scatter(Cleandata[\"garageSpaces\"],Cleandata[\"latestPrice\" ])\n",
    "plt.show()"
   ]
  },
  {
   "cell_type": "code",
   "execution_count": 50,
   "id": "1b3a7cec",
   "metadata": {},
   "outputs": [
    {
     "data": {
      "image/png": "[encoded data removed]",
      "text/plain": [
       "<Figure size 432x288 with 1 Axes>"
      ]
     },
     "metadata": {
      "needs_background": "light"
     },
     "output_type": "display_data"
    }
   ],
   "source": [
    "#Find the relationship between parking spaces and price\n",
    "plt.scatter(Cleandata[\"parkingSpaces\"],Cleandata[\"latestPrice\"])\n",
    "plt.show()"
   ]
  },
  {
   "cell_type": "code",
   "execution_count": 51,
   "id": "6440d45d",
   "metadata": {},
   "outputs": [
    {
     "data": {
      "image/png": "[encoded data removed]",
      "text/plain": [
       "<Figure size 432x288 with 1 Axes>"
      ]
     },
     "metadata": {
      "needs_background": "light"
     },
     "output_type": "display_data"
    }
   ],
   "source": [
    "#Find the relationship between yearbuilt and price\n",
    "plt.scatter(Cleandata[\"yearBuilt\"],Cleandata[\"latestPrice\"])\n",
    "plt.show()"
   ]
  },
  {
   "cell_type": "code",
   "execution_count": 52,
   "id": "a16f278c",
   "metadata": {},
   "outputs": [
    {
     "data": {
      "image/png": "[encoded data removed]",
      "text/plain": [
       "<Figure size 432x288 with 1 Axes>"
      ]
     },
     "metadata": {
      "needs_background": "light"
     },
     "output_type": "display_data"
    }
   ],
   "source": [
    "#Find the rleationship between numPricecahnages and price\n",
    "plt.scatter(Cleandata[\"numPriceChanges\"],Cleandata[\"latestPrice\"])\n",
    "plt.show()"
   ]
  },
  {
   "cell_type": "markdown",
   "id": "852a469c",
   "metadata": {},
   "source": [
    "Garage spaces,parking spaces,year built and number of price changes are obtained to have relation with the price while property tax rate deosnt show a clear pattern. So property tax can be excluded from our model."
   ]
  },
  {
   "cell_type": "code",
   "execution_count": 53,
   "id": "60465aac",
   "metadata": {},
   "outputs": [
    {
     "data": {
      "text/plain": [
       "<AxesSubplot:xlabel='numOfAccessibilityFeatures', ylabel='latestPrice'>"
      ]
     },
     "execution_count": 53,
     "metadata": {},
     "output_type": "execute_result"
    },
    {
     "data": {
      "image/png": "[encoded data removed]",
      "text/plain": [
       "<Figure size 432x288 with 1 Axes>"
      ]
     },
     "metadata": {
      "needs_background": "light"
     },
     "output_type": "display_data"
    }
   ],
   "source": [
    "#Find the relationship between number of accessibility fetaures and price\n",
    "sns.barplot(x=\"numOfAccessibilityFeatures\", y=\"latestPrice\", data=Cleandata)"
   ]
  },
  {
   "cell_type": "markdown",
   "id": "ee1f0401",
   "metadata": {},
   "source": [
    "The above  plot show clear relation between number of accessibility features and price."
   ]
  },
  {
   "cell_type": "code",
   "execution_count": 54,
   "id": "f1414ace",
   "metadata": {},
   "outputs": [
    {
     "data": {
      "text/plain": [
       "<AxesSubplot:xlabel='numOfAppliances', ylabel='latestPrice'>"
      ]
     },
     "execution_count": 54,
     "metadata": {},
     "output_type": "execute_result"
    },
    {
     "data": {
      "image/png": "[encoded data removed]",
      "text/plain": [
       "<Figure size 432x288 with 1 Axes>"
      ]
     },
     "metadata": {
      "needs_background": "light"
     },
     "output_type": "display_data"
    }
   ],
   "source": [
    "sns.barplot(x=\"numOfAppliances\", y=\"latestPrice\", data=Cleandata)"
   ]
  },
  {
   "cell_type": "code",
   "execution_count": 55,
   "id": "e1f0894b",
   "metadata": {},
   "outputs": [
    {
     "data": {
      "text/plain": [
       "<AxesSubplot:xlabel='numOfParkingFeatures', ylabel='latestPrice'>"
      ]
     },
     "execution_count": 55,
     "metadata": {},
     "output_type": "execute_result"
    },
    {
     "data": {
      "image/png": "[encoded data removed]",
      "text/plain": [
       "<Figure size 432x288 with 1 Axes>"
      ]
     },
     "metadata": {
      "needs_background": "light"
     },
     "output_type": "display_data"
    }
   ],
   "source": [
    "sns.barplot(x=\"numOfParkingFeatures\", y=\"latestPrice\", data=Cleandata)"
   ]
  },
  {
   "cell_type": "code",
   "execution_count": 56,
   "id": "e1f7869e",
   "metadata": {},
   "outputs": [
    {
     "data": {
      "text/plain": [
       "<AxesSubplot:xlabel='numOfPatioAndPorchFeatures', ylabel='latestPrice'>"
      ]
     },
     "execution_count": 56,
     "metadata": {},
     "output_type": "execute_result"
    },
    {
     "data": {
      "image/png": "[encoded data removed]",
      "text/plain": [
       "<Figure size 432x288 with 1 Axes>"
      ]
     },
     "metadata": {
      "needs_background": "light"
     },
     "output_type": "display_data"
    }
   ],
   "source": [
    "sns.barplot(x=\"numOfPatioAndPorchFeatures\", y=\"latestPrice\", data=Cleandata)"
   ]
  },
  {
   "cell_type": "markdown",
   "id": "013e0515",
   "metadata": {},
   "source": [
    "The above plots clear pattern of relationship of price with numOfAppliances,numOfParking features and numOfPatioAndPorchFeatures"
   ]
  },
  {
   "cell_type": "code",
   "execution_count": 57,
   "id": "01b321d6",
   "metadata": {},
   "outputs": [
    {
     "data": {
      "text/plain": [
       "<AxesSubplot:xlabel='numOfSecurityFeatures', ylabel='latestPrice'>"
      ]
     },
     "execution_count": 57,
     "metadata": {},
     "output_type": "execute_result"
    },
    {
     "data": {
      "image/png": "[encoded data removed]",
      "text/plain": [
       "<Figure size 432x288 with 1 Axes>"
      ]
     },
     "metadata": {
      "needs_background": "light"
     },
     "output_type": "display_data"
    }
   ],
   "source": [
    "sns.barplot(x=\"numOfSecurityFeatures\", y=\"latestPrice\", data=Cleandata)"
   ]
  },
  {
   "cell_type": "code",
   "execution_count": 58,
   "id": "59b95e6b",
   "metadata": {},
   "outputs": [
    {
     "data": {
      "text/plain": [
       "<AxesSubplot:xlabel='numOfWaterfrontFeatures', ylabel='latestPrice'>"
      ]
     },
     "execution_count": 58,
     "metadata": {},
     "output_type": "execute_result"
    },
    {
     "data": {
      "image/png": "[encoded data removed]",
      "text/plain": [
       "<Figure size 432x288 with 1 Axes>"
      ]
     },
     "metadata": {
      "needs_background": "light"
     },
     "output_type": "display_data"
    }
   ],
   "source": [
    "sns.barplot(x=\"numOfWaterfrontFeatures\", y=\"latestPrice\", data=Cleandata)"
   ]
  },
  {
   "cell_type": "code",
   "execution_count": 59,
   "id": "f5a83cc7",
   "metadata": {},
   "outputs": [
    {
     "data": {
      "text/plain": [
       "<AxesSubplot:xlabel='numOfWindowFeatures', ylabel='latestPrice'>"
      ]
     },
     "execution_count": 59,
     "metadata": {},
     "output_type": "execute_result"
    },
    {
     "data": {
      "image/png": "[encoded data removed]",
      "text/plain": [
       "<Figure size 432x288 with 1 Axes>"
      ]
     },
     "metadata": {
      "needs_background": "light"
     },
     "output_type": "display_data"
    }
   ],
   "source": [
    "sns.barplot(x=\"numOfWindowFeatures\", y=\"latestPrice\", data=Cleandata)"
   ]
  },
  {
   "cell_type": "markdown",
   "id": "990a9e89",
   "metadata": {},
   "source": [
    "The above plots clear pattern of relationship of price with numOfSecurityFeatures,numOfWaterfrontFeatures and numOfWindowFeatures"
   ]
  },
  {
   "cell_type": "code",
   "execution_count": 60,
   "id": "f5e8e32b",
   "metadata": {},
   "outputs": [
    {
     "data": {
      "image/png": "[encoded data removed]",
      "text/plain": [
       "<Figure size 432x288 with 1 Axes>"
      ]
     },
     "metadata": {
      "needs_background": "light"
     },
     "output_type": "display_data"
    }
   ],
   "source": [
    "plt.scatter(Cleandata[\"lotSizeSqFt\"],Cleandata[\"latestPrice\"])\n",
    "plt.show()"
   ]
  },
  {
   "cell_type": "code",
   "execution_count": 61,
   "id": "13f4e163",
   "metadata": {},
   "outputs": [
    {
     "data": {
      "image/png": "[encoded data removed]",
      "text/plain": [
       "<Figure size 432x288 with 1 Axes>"
      ]
     },
     "metadata": {
      "needs_background": "light"
     },
     "output_type": "display_data"
    }
   ],
   "source": [
    "plt.scatter(Cleandata[\"livingAreaSqFt\"],Cleandata[\"latestPrice\"])\n",
    "plt.show()"
   ]
  },
  {
   "cell_type": "markdown",
   "id": "132f08e3",
   "metadata": {},
   "source": [
    "Living are square feet and lotsize feet are found to have clear relation with the price"
   ]
  },
  {
   "cell_type": "code",
   "execution_count": 62,
   "id": "9e70053f",
   "metadata": {},
   "outputs": [
    {
     "data": {
      "text/plain": [
       "<AxesSubplot:xlabel='numOfBathrooms', ylabel='latestPrice'>"
      ]
     },
     "execution_count": 62,
     "metadata": {},
     "output_type": "execute_result"
    },
    {
     "data": {
      "image/png": "[encoded data removed]",
      "text/plain": [
       "<Figure size 432x288 with 1 Axes>"
      ]
     },
     "metadata": {
      "needs_background": "light"
     },
     "output_type": "display_data"
    }
   ],
   "source": [
    "sns.barplot(x=\"numOfBathrooms\", y=\"latestPrice\", data=Cleandata)\n"
   ]
  },
  {
   "cell_type": "code",
   "execution_count": 63,
   "id": "d2e0b32b",
   "metadata": {},
   "outputs": [
    {
     "data": {
      "text/plain": [
       "<AxesSubplot:xlabel='numOfBedrooms', ylabel='latestPrice'>"
      ]
     },
     "execution_count": 63,
     "metadata": {},
     "output_type": "execute_result"
    },
    {
     "data": {
      "image/png": "[encoded data removed]",
      "text/plain": [
       "<Figure size 432x288 with 1 Axes>"
      ]
     },
     "metadata": {
      "needs_background": "light"
     },
     "output_type": "display_data"
    }
   ],
   "source": [
    "sns.barplot(x=\"numOfBedrooms\", y=\"latestPrice\", data=Cleandata)\n"
   ]
  },
  {
   "cell_type": "markdown",
   "id": "7fed8f4a",
   "metadata": {},
   "source": [
    "Number of bedrooms are found to have clear relationship with price"
   ]
  },
  {
   "cell_type": "code",
   "execution_count": 64,
   "id": "0d7a6df6",
   "metadata": {},
   "outputs": [
    {
     "data": {
      "text/plain": [
       "<AxesSubplot:xlabel='numOfStories', ylabel='latestPrice'>"
      ]
     },
     "execution_count": 64,
     "metadata": {},
     "output_type": "execute_result"
    },
    {
     "data": {
      "image/png": "[encoded data removed]",
      "text/plain": [
       "<Figure size 432x288 with 1 Axes>"
      ]
     },
     "metadata": {
      "needs_background": "light"
     },
     "output_type": "display_data"
    }
   ],
   "source": [
    "sns.barplot(x=\"numOfStories\", y=\"latestPrice\", data=Cleandata)\n"
   ]
  },
  {
   "cell_type": "markdown",
   "id": "bf95d683",
   "metadata": {},
   "source": [
    "Number of stories are found to have clear relationship with the price"
   ]
  },
  {
   "cell_type": "code",
   "execution_count": 65,
   "id": "da7c1468",
   "metadata": {},
   "outputs": [
    {
     "data": {
      "text/plain": [
       "<AxesSubplot:xlabel='numOfPrimarySchools', ylabel='latestPrice'>"
      ]
     },
     "execution_count": 65,
     "metadata": {},
     "output_type": "execute_result"
    },
    {
     "data": {
      "image/png": "[encoded data removed]",
      "text/plain": [
       "<Figure size 432x288 with 1 Axes>"
      ]
     },
     "metadata": {
      "needs_background": "light"
     },
     "output_type": "display_data"
    }
   ],
   "source": [
    "sns.barplot(x=\"numOfPrimarySchools\", y=\"latestPrice\", data=Cleandata)"
   ]
  },
  {
   "cell_type": "code",
   "execution_count": 66,
   "id": "fbe69fb6",
   "metadata": {},
   "outputs": [
    {
     "data": {
      "text/plain": [
       "<AxesSubplot:xlabel='numOfElementarySchools', ylabel='latestPrice'>"
      ]
     },
     "execution_count": 66,
     "metadata": {},
     "output_type": "execute_result"
    },
    {
     "data": {
      "image/png": "[encoded data removed]",
      "text/plain": [
       "<Figure size 432x288 with 1 Axes>"
      ]
     },
     "metadata": {
      "needs_background": "light"
     },
     "output_type": "display_data"
    }
   ],
   "source": [
    "sns.barplot(x=\"numOfElementarySchools\", y=\"latestPrice\", data=Cleandata)"
   ]
  },
  {
   "cell_type": "code",
   "execution_count": 67,
   "id": "7e836424",
   "metadata": {},
   "outputs": [
    {
     "data": {
      "text/plain": [
       "<AxesSubplot:xlabel='numOfMiddleSchools', ylabel='latestPrice'>"
      ]
     },
     "execution_count": 67,
     "metadata": {},
     "output_type": "execute_result"
    },
    {
     "data": {
      "image/png": "[encoded data removed]",
      "text/plain": [
       "<Figure size 432x288 with 1 Axes>"
      ]
     },
     "metadata": {
      "needs_background": "light"
     },
     "output_type": "display_data"
    }
   ],
   "source": [
    "sns.barplot(x=\"numOfMiddleSchools\", y=\"latestPrice\", data=Cleandata)"
   ]
  },
  {
   "cell_type": "code",
   "execution_count": 68,
   "id": "405b19ad",
   "metadata": {},
   "outputs": [
    {
     "data": {
      "text/plain": [
       "<AxesSubplot:xlabel='numOfHighSchools', ylabel='latestPrice'>"
      ]
     },
     "execution_count": 68,
     "metadata": {},
     "output_type": "execute_result"
    },
    {
     "data": {
      "image/png": "[encoded data removed]",
      "text/plain": [
       "<Figure size 432x288 with 1 Axes>"
      ]
     },
     "metadata": {
      "needs_background": "light"
     },
     "output_type": "display_data"
    }
   ],
   "source": [
    "sns.barplot(x=\"numOfHighSchools\", y=\"latestPrice\", data=Cleandata)"
   ]
  },
  {
   "cell_type": "markdown",
   "id": "420ba85c",
   "metadata": {},
   "source": [
    "The above three plots show clear relation between  price and number of high schools, number of middle schools,number of elementary schools and number of primary schools."
   ]
  },
  {
   "cell_type": "code",
   "execution_count": 69,
   "id": "997734e8",
   "metadata": {},
   "outputs": [
    {
     "data": {
      "text/plain": [
       "<AxesSubplot:xlabel='avgSchoolDistance', ylabel='latestPrice'>"
      ]
     },
     "execution_count": 69,
     "metadata": {},
     "output_type": "execute_result"
    },
    {
     "data": {
      "image/png": "[encoded data removed]",
      "text/plain": [
       "<Figure size 432x288 with 1 Axes>"
      ]
     },
     "metadata": {
      "needs_background": "light"
     },
     "output_type": "display_data"
    }
   ],
   "source": [
    "sns.barplot(x=\"avgSchoolDistance\", y=\"latestPrice\", data=Cleandata)"
   ]
  },
  {
   "cell_type": "code",
   "execution_count": 70,
   "id": "d0b2440f",
   "metadata": {},
   "outputs": [
    {
     "data": {
      "text/plain": [
       "<AxesSubplot:xlabel='avgSchoolRating', ylabel='latestPrice'>"
      ]
     },
     "execution_count": 70,
     "metadata": {},
     "output_type": "execute_result"
    },
    {
     "data": {
      "image/png": "[encoded data removed]",
      "text/plain": [
       "<Figure size 432x288 with 1 Axes>"
      ]
     },
     "metadata": {
      "needs_background": "light"
     },
     "output_type": "display_data"
    }
   ],
   "source": [
    "sns.barplot(x=\"avgSchoolRating\", y=\"latestPrice\", data=Cleandata)"
   ]
  },
  {
   "cell_type": "markdown",
   "id": "47bb4d01",
   "metadata": {},
   "source": [
    "The above two plots show clear relation between  price and average school rating and average school distance."
   ]
  },
  {
   "cell_type": "code",
   "execution_count": 71,
   "id": "38fac57b",
   "metadata": {},
   "outputs": [
    {
     "data": {
      "text/html": [
       "<div>\n",
       "<style scoped>\n",
       "    .dataframe tbody tr th:only-of-type {\n",
       "        vertical-align: middle;\n",
       "    }\n",
       "\n",
       "    .dataframe tbody tr th {\n",
       "        vertical-align: top;\n",
       "    }\n",
       "\n",
       "    .dataframe thead th {\n",
       "        text-align: right;\n",
       "    }\n",
       "</style>\n",
       "<table border=\"1\" class=\"dataframe\">\n",
       "  <thead>\n",
       "    <tr style=\"text-align: right;\">\n",
       "      <th></th>\n",
       "      <th>avgSchoolSize</th>\n",
       "      <th>MedianStudentsPerTeacher</th>\n",
       "      <th>latestPrice</th>\n",
       "    </tr>\n",
       "  </thead>\n",
       "  <tbody>\n",
       "    <tr>\n",
       "      <th>avgSchoolSize</th>\n",
       "      <td>1.000000</td>\n",
       "      <td>0.632667</td>\n",
       "      <td>0.108073</td>\n",
       "    </tr>\n",
       "    <tr>\n",
       "      <th>MedianStudentsPerTeacher</th>\n",
       "      <td>0.632667</td>\n",
       "      <td>1.000000</td>\n",
       "      <td>0.332629</td>\n",
       "    </tr>\n",
       "    <tr>\n",
       "      <th>latestPrice</th>\n",
       "      <td>0.108073</td>\n",
       "      <td>0.332629</td>\n",
       "      <td>1.000000</td>\n",
       "    </tr>\n",
       "  </tbody>\n",
       "</table>\n",
       "</div>"
      ],
      "text/plain": [
       "                          avgSchoolSize  MedianStudentsPerTeacher  latestPrice\n",
       "avgSchoolSize                  1.000000                  0.632667     0.108073\n",
       "MedianStudentsPerTeacher       0.632667                  1.000000     0.332629\n",
       "latestPrice                    0.108073                  0.332629     1.000000"
      ]
     },
     "execution_count": 71,
     "metadata": {},
     "output_type": "execute_result"
    }
   ],
   "source": [
    "Cleandata[['avgSchoolSize','MedianStudentsPerTeacher','latestPrice']].corr()"
   ]
  },
  {
   "cell_type": "markdown",
   "id": "8c90054a",
   "metadata": {},
   "source": [
    "The above table shows no corrleation for medianstudentsperteacher and average school size with price.Hence these two can be excluded from the model"
   ]
  },
  {
   "cell_type": "code",
   "execution_count": 72,
   "id": "0aa538f2",
   "metadata": {},
   "outputs": [
    {
     "data": {
      "text/plain": [
       "<AxesSubplot:xlabel='hasAssociation', ylabel='latestPrice'>"
      ]
     },
     "execution_count": 72,
     "metadata": {},
     "output_type": "execute_result"
    },
    {
     "data": {
      "image/png": "[encoded data removed]",
      "text/plain": [
       "<Figure size 432x288 with 1 Axes>"
      ]
     },
     "metadata": {
      "needs_background": "light"
     },
     "output_type": "display_data"
    }
   ],
   "source": [
    " sns.barplot(x=\"hasAssociation\", y=\"latestPrice\", data=Cleandata)"
   ]
  },
  {
   "cell_type": "markdown",
   "id": "126cfa69",
   "metadata": {},
   "source": [
    "The above variable \"has Association\" seems to have no relation with price.Hence it can be dropped from our model"
   ]
  },
  {
   "cell_type": "code",
   "execution_count": 73,
   "id": "eb249755",
   "metadata": {},
   "outputs": [
    {
     "data": {
      "text/plain": [
       "<AxesSubplot:xlabel='hasCooling', ylabel='latestPrice'>"
      ]
     },
     "execution_count": 73,
     "metadata": {},
     "output_type": "execute_result"
    },
    {
     "data": {
      "image/png": "[encoded data removed]",
      "text/plain": [
       "<Figure size 432x288 with 1 Axes>"
      ]
     },
     "metadata": {
      "needs_background": "light"
     },
     "output_type": "display_data"
    }
   ],
   "source": [
    "sns.barplot(x=\"hasCooling\", y=\"latestPrice\", data=Cleandata)"
   ]
  },
  {
   "cell_type": "code",
   "execution_count": 74,
   "id": "973a7056",
   "metadata": {},
   "outputs": [
    {
     "data": {
      "text/plain": [
       "<AxesSubplot:xlabel='hasHeating', ylabel='latestPrice'>"
      ]
     },
     "execution_count": 74,
     "metadata": {},
     "output_type": "execute_result"
    },
    {
     "data": {
      "image/png": "[encoded data removed]",
      "text/plain": [
       "<Figure size 432x288 with 1 Axes>"
      ]
     },
     "metadata": {
      "needs_background": "light"
     },
     "output_type": "display_data"
    }
   ],
   "source": [
    "sns.barplot(x=\"hasHeating\", y=\"latestPrice\", data=Cleandata)"
   ]
  },
  {
   "cell_type": "code",
   "execution_count": 75,
   "id": "7792ea92",
   "metadata": {},
   "outputs": [
    {
     "data": {
      "text/plain": [
       "<AxesSubplot:xlabel='hasSpa', ylabel='latestPrice'>"
      ]
     },
     "execution_count": 75,
     "metadata": {},
     "output_type": "execute_result"
    },
    {
     "data": {
      "image/png": "[encoded data removed]",
      "text/plain": [
       "<Figure size 432x288 with 1 Axes>"
      ]
     },
     "metadata": {
      "needs_background": "light"
     },
     "output_type": "display_data"
    }
   ],
   "source": [
    "sns.barplot(x=\"hasSpa\", y=\"latestPrice\", data=Cleandata)"
   ]
  },
  {
   "cell_type": "code",
   "execution_count": 76,
   "id": "d28a678a",
   "metadata": {},
   "outputs": [
    {
     "data": {
      "text/plain": [
       "<AxesSubplot:xlabel='hasGarage', ylabel='latestPrice'>"
      ]
     },
     "execution_count": 76,
     "metadata": {},
     "output_type": "execute_result"
    },
    {
     "data": {
      "image/png": "[encoded data removed]",
      "text/plain": [
       "<Figure size 432x288 with 1 Axes>"
      ]
     },
     "metadata": {
      "needs_background": "light"
     },
     "output_type": "display_data"
    }
   ],
   "source": [
    "sns.barplot(x=\"hasGarage\", y=\"latestPrice\", data=Cleandata)"
   ]
  },
  {
   "cell_type": "code",
   "execution_count": 77,
   "id": "437839c7",
   "metadata": {},
   "outputs": [
    {
     "data": {
      "text/plain": [
       "<AxesSubplot:xlabel='hasView', ylabel='latestPrice'>"
      ]
     },
     "execution_count": 77,
     "metadata": {},
     "output_type": "execute_result"
    },
    {
     "data": {
      "image/png": "[encoded data removed]",
      "text/plain": [
       "<Figure size 432x288 with 1 Axes>"
      ]
     },
     "metadata": {
      "needs_background": "light"
     },
     "output_type": "display_data"
    }
   ],
   "source": [
    "sns.barplot(x=\"hasView\",y=\"latestPrice\", data=Cleandata)"
   ]
  },
  {
   "cell_type": "markdown",
   "id": "7515274d",
   "metadata": {},
   "source": [
    "The features like \"has heating\",\"has cooling,\"\"has spa\",\"has garage \"  and \"has view\" have clear relation with price."
   ]
  }
 ],
 "metadata": {
  "kernelspec": {
   "display_name": "Python 3",
   "language": "python",
   "name": "python3"
  },
  "language_info": {
   "codemirror_mode": {
    "name": "ipython",
    "version": 3
   },
   "file_extension": ".py",
   "mimetype": "text/x-python",
   "name": "python",
   "nbconvert_exporter": "python",
   "pygments_lexer": "ipython3",
   "version": "3.8.8"
  }
 },
 "nbformat": 4,
 "nbformat_minor": 5
}
